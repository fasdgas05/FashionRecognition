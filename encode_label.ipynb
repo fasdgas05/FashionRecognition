{
 "cells": [
  {
   "cell_type": "code",
   "execution_count": 2,
   "metadata": {},
   "outputs": [],
   "source": [
    "import numpy as np"
   ]
  },
  {
   "cell_type": "code",
   "execution_count": 3,
   "metadata": {},
   "outputs": [],
   "source": [
    "def load_data(filename, path='D:/notebook/cabstone/data/Anno_fine/'):\n",
    "    f = open(path + filename)\n",
    "    lines = f.readlines()\n",
    "    attr = []\n",
    "    for i in lines:\n",
    "        attr.append([int(x) for x in i.split()])\n",
    "        \n",
    "    return np.array(attr, dtype = int)"
   ]
  },
  {
   "cell_type": "code",
   "execution_count": 4,
   "metadata": {},
   "outputs": [],
   "source": [
    "def load_attr(filename, path='D:/notebook/cabstone/data/Anno_fine/'):\n",
    "    f = open(path + filename)\n",
    "    lines = f.readlines()\n",
    "    attr_list = []\n",
    "    for i in lines[2:]:\n",
    "        attr_list.append(i.split()[0])\n",
    "    \n",
    "    return attr_list"
   ]
  },
  {
   "cell_type": "code",
   "execution_count": 5,
   "metadata": {},
   "outputs": [],
   "source": [
    "def load_cat_data(filename, path='D:/notebook/cabstone/data/Anno_fine/'):\n",
    "    f = open(path + filename)\n",
    "    lines = f.readlines()\n",
    "    attr = np.zeros(len(cat_list), dtype=int)\n",
    "    for i in lines:\n",
    "        attr[int(i)] += 1\n",
    "    return attr"
   ]
  },
  {
   "cell_type": "code",
   "execution_count": 6,
   "metadata": {},
   "outputs": [],
   "source": [
    "attr_list = load_attr('list_attr_cloth.txt')"
   ]
  },
  {
   "cell_type": "code",
   "execution_count": 7,
   "metadata": {},
   "outputs": [],
   "source": [
    "train_attr = load_data('train_attr.txt')"
   ]
  },
  {
   "cell_type": "code",
   "execution_count": 8,
   "metadata": {},
   "outputs": [],
   "source": [
    "val_attr = load_data('val_attr.txt')"
   ]
  },
  {
   "cell_type": "code",
   "execution_count": 9,
   "metadata": {},
   "outputs": [],
   "source": [
    "test_attr = load_data('test_attr.txt')"
   ]
  },
  {
   "cell_type": "code",
   "execution_count": null,
   "metadata": {},
   "outputs": [],
   "source": []
  },
  {
   "cell_type": "code",
   "execution_count": 15,
   "metadata": {},
   "outputs": [
    {
     "data": {
      "text/plain": [
       "20000"
      ]
     },
     "execution_count": 15,
     "metadata": {},
     "output_type": "execute_result"
    }
   ],
   "source": [
    "len(train_attr) + len(val_attr) + len(test_attr)"
   ]
  },
  {
   "cell_type": "code",
   "execution_count": 13,
   "metadata": {},
   "outputs": [
    {
     "data": {
      "text/plain": [
       "array([ 2383,  2329,   938,  1179,   296,  6633,   242,  4269,  2437,\n",
       "        7294,  1436,  2706,  9858,  5679,  2416,    47,  5858,   835,\n",
       "        2073,  9469,   292,   124,  1207,  2001,   758, 11241])"
      ]
     },
     "execution_count": 13,
     "metadata": {},
     "output_type": "execute_result"
    }
   ],
   "source": [
    "sum(train_attr)"
   ]
  },
  {
   "cell_type": "code",
   "execution_count": 9,
   "metadata": {},
   "outputs": [
    {
     "data": {
      "text/plain": [
       "array([84000, 12000, 24000])"
      ]
     },
     "execution_count": 9,
     "metadata": {},
     "output_type": "execute_result"
    }
   ],
   "source": [
    "np.sum(np.array([sum(train_attr),sum(val_attr),sum(test_attr)]),axis=1)"
   ]
  },
  {
   "cell_type": "code",
   "execution_count": 10,
   "metadata": {},
   "outputs": [
    {
     "data": {
      "text/plain": [
       "120000"
      ]
     },
     "execution_count": 10,
     "metadata": {},
     "output_type": "execute_result"
    }
   ],
   "source": [
    "np.sum(np.sum(np.array([sum(train_attr),sum(val_attr),sum(test_attr)]),axis=1))"
   ]
  },
  {
   "cell_type": "code",
   "execution_count": 16,
   "metadata": {},
   "outputs": [
    {
     "data": {
      "text/plain": [
       "['floral',\n",
       " 'graphic',\n",
       " 'striped',\n",
       " 'embroidered',\n",
       " 'pleated',\n",
       " 'solid',\n",
       " 'lattice',\n",
       " 'long_sleeve',\n",
       " 'short_sleeve',\n",
       " 'sleeveless',\n",
       " 'maxi_length',\n",
       " 'mini_length',\n",
       " 'no_dress',\n",
       " 'crew_neckline',\n",
       " 'v_neckline',\n",
       " 'square_neckline',\n",
       " 'no_neckline',\n",
       " 'denim',\n",
       " 'chiffon',\n",
       " 'cotton',\n",
       " 'leather',\n",
       " 'faux',\n",
       " 'knit',\n",
       " 'tight',\n",
       " 'loose',\n",
       " 'conventional']"
      ]
     },
     "execution_count": 16,
     "metadata": {},
     "output_type": "execute_result"
    }
   ],
   "source": [
    "attr_list"
   ]
  },
  {
   "cell_type": "code",
   "execution_count": 17,
   "metadata": {},
   "outputs": [],
   "source": [
    "ats = '0 0 0 0 0 1 0 1 0 0 0 0 1 1 0 0 0 0 0 0 0 0 1 1 0 0 '.split()"
   ]
  },
  {
   "cell_type": "code",
   "execution_count": 18,
   "metadata": {},
   "outputs": [
    {
     "name": "stdout",
     "output_type": "stream",
     "text": [
      "solid\n",
      "long_sleeve\n",
      "no_dress\n",
      "crew_neckline\n",
      "knit\n",
      "tight\n"
     ]
    }
   ],
   "source": [
    "for i in range(len(ats)):\n",
    "    if ats[i] == '1':\n",
    "        print(attr_list[i])"
   ]
  },
  {
   "cell_type": "code",
   "execution_count": 35,
   "metadata": {},
   "outputs": [
    {
     "data": {
      "text/plain": [
       "array([ 3402,  3346,  1347,  1667,   414,  9482,   342,  6117,  3474,\n",
       "       10409,  2029,  3834, 14137,  8086,  3458,    61,  8395,  1194,\n",
       "        2885, 13604,   406,   189,  1722,  2891,  1069, 16040])"
      ]
     },
     "execution_count": 35,
     "metadata": {},
     "output_type": "execute_result"
    }
   ],
   "source": [
    "sum(train_attr) + sum(val_attr) + sum(test_attr)"
   ]
  },
  {
   "cell_type": "code",
   "execution_count": 37,
   "metadata": {},
   "outputs": [],
   "source": [
    "import pandas as pd"
   ]
  },
  {
   "cell_type": "code",
   "execution_count": 38,
   "metadata": {
    "scrolled": false
   },
   "outputs": [
    {
     "data": {
      "text/html": [
       "<div>\n",
       "<style scoped>\n",
       "    .dataframe tbody tr th:only-of-type {\n",
       "        vertical-align: middle;\n",
       "    }\n",
       "\n",
       "    .dataframe tbody tr th {\n",
       "        vertical-align: top;\n",
       "    }\n",
       "\n",
       "    .dataframe thead th {\n",
       "        text-align: right;\n",
       "    }\n",
       "</style>\n",
       "<table border=\"1\" class=\"dataframe\">\n",
       "  <thead>\n",
       "    <tr style=\"text-align: right;\">\n",
       "      <th></th>\n",
       "      <th>count</th>\n",
       "    </tr>\n",
       "  </thead>\n",
       "  <tbody>\n",
       "    <tr>\n",
       "      <th>꽃무늬</th>\n",
       "      <td>3402</td>\n",
       "    </tr>\n",
       "    <tr>\n",
       "      <th>그래픽</th>\n",
       "      <td>3346</td>\n",
       "    </tr>\n",
       "    <tr>\n",
       "      <th>줄무늬</th>\n",
       "      <td>1347</td>\n",
       "    </tr>\n",
       "    <tr>\n",
       "      <th>자수</th>\n",
       "      <td>1667</td>\n",
       "    </tr>\n",
       "    <tr>\n",
       "      <th>주름</th>\n",
       "      <td>414</td>\n",
       "    </tr>\n",
       "    <tr>\n",
       "      <th>솔리드</th>\n",
       "      <td>9482</td>\n",
       "    </tr>\n",
       "    <tr>\n",
       "      <th>격자무늬</th>\n",
       "      <td>342</td>\n",
       "    </tr>\n",
       "    <tr>\n",
       "      <th>긴소매</th>\n",
       "      <td>6117</td>\n",
       "    </tr>\n",
       "    <tr>\n",
       "      <th>반소매</th>\n",
       "      <td>3474</td>\n",
       "    </tr>\n",
       "    <tr>\n",
       "      <th>민소매</th>\n",
       "      <td>10409</td>\n",
       "    </tr>\n",
       "    <tr>\n",
       "      <th>롱드레스</th>\n",
       "      <td>2029</td>\n",
       "    </tr>\n",
       "    <tr>\n",
       "      <th>미니드레스</th>\n",
       "      <td>3834</td>\n",
       "    </tr>\n",
       "    <tr>\n",
       "      <th>상/하의</th>\n",
       "      <td>14137</td>\n",
       "    </tr>\n",
       "    <tr>\n",
       "      <th>크루넥</th>\n",
       "      <td>8086</td>\n",
       "    </tr>\n",
       "    <tr>\n",
       "      <th>브이넥</th>\n",
       "      <td>3458</td>\n",
       "    </tr>\n",
       "    <tr>\n",
       "      <th>스퀘어넥</th>\n",
       "      <td>61</td>\n",
       "    </tr>\n",
       "    <tr>\n",
       "      <th>목선없음</th>\n",
       "      <td>8395</td>\n",
       "    </tr>\n",
       "    <tr>\n",
       "      <th>데님</th>\n",
       "      <td>1194</td>\n",
       "    </tr>\n",
       "    <tr>\n",
       "      <th>쉬폰</th>\n",
       "      <td>2885</td>\n",
       "    </tr>\n",
       "    <tr>\n",
       "      <th>면</th>\n",
       "      <td>13604</td>\n",
       "    </tr>\n",
       "    <tr>\n",
       "      <th>가죽</th>\n",
       "      <td>406</td>\n",
       "    </tr>\n",
       "    <tr>\n",
       "      <th>인조</th>\n",
       "      <td>189</td>\n",
       "    </tr>\n",
       "    <tr>\n",
       "      <th>니트</th>\n",
       "      <td>1722</td>\n",
       "    </tr>\n",
       "    <tr>\n",
       "      <th>타이트한</th>\n",
       "      <td>2891</td>\n",
       "    </tr>\n",
       "    <tr>\n",
       "      <th>널널한</th>\n",
       "      <td>1069</td>\n",
       "    </tr>\n",
       "    <tr>\n",
       "      <th>평범한</th>\n",
       "      <td>16040</td>\n",
       "    </tr>\n",
       "  </tbody>\n",
       "</table>\n",
       "</div>"
      ],
      "text/plain": [
       "       count\n",
       "꽃무늬     3402\n",
       "그래픽     3346\n",
       "줄무늬     1347\n",
       "자수      1667\n",
       "주름       414\n",
       "솔리드     9482\n",
       "격자무늬     342\n",
       "긴소매     6117\n",
       "반소매     3474\n",
       "민소매    10409\n",
       "롱드레스    2029\n",
       "미니드레스   3834\n",
       "상/하의   14137\n",
       "크루넥     8086\n",
       "브이넥     3458\n",
       "스퀘어넥      61\n",
       "목선없음    8395\n",
       "데님      1194\n",
       "쉬폰      2885\n",
       "면      13604\n",
       "가죽       406\n",
       "인조       189\n",
       "니트      1722\n",
       "타이트한    2891\n",
       "널널한     1069\n",
       "평범한    16040"
      ]
     },
     "execution_count": 38,
     "metadata": {},
     "output_type": "execute_result"
    }
   ],
   "source": [
    "pd.DataFrame(index=attr_list, data=np.array(sum(train_attr) + sum(val_attr) + sum(test_attr)).T, columns=['count'])"
   ]
  },
  {
   "cell_type": "code",
   "execution_count": 49,
   "metadata": {},
   "outputs": [],
   "source": [
    "cat_list_ko = load_attr('list_category_cloth_ko.txt')"
   ]
  },
  {
   "cell_type": "code",
   "execution_count": 50,
   "metadata": {},
   "outputs": [],
   "source": [
    "cat_list = load_attr('list_category_cloth.txt')"
   ]
  },
  {
   "cell_type": "code",
   "execution_count": 51,
   "metadata": {},
   "outputs": [],
   "source": [
    "train_cat = load_cat_data('train_cate.txt')"
   ]
  },
  {
   "cell_type": "code",
   "execution_count": 52,
   "metadata": {},
   "outputs": [],
   "source": [
    "val_cat = load_cat_data('val_cate.txt')"
   ]
  },
  {
   "cell_type": "code",
   "execution_count": 53,
   "metadata": {},
   "outputs": [],
   "source": [
    "test_cat = load_cat_data('test_cate.txt')"
   ]
  },
  {
   "cell_type": "code",
   "execution_count": 54,
   "metadata": {},
   "outputs": [
    {
     "data": {
      "text/plain": [
       "(50, (50,), (50,), (50,))"
      ]
     },
     "execution_count": 54,
     "metadata": {},
     "output_type": "execute_result"
    }
   ],
   "source": [
    "len(cat_list),train_cat.shape, val_cat.shape, test_cat.shape"
   ]
  },
  {
   "cell_type": "code",
   "execution_count": 56,
   "metadata": {
    "scrolled": true
   },
   "outputs": [
    {
     "data": {
      "text/html": [
       "<div>\n",
       "<style scoped>\n",
       "    .dataframe tbody tr th:only-of-type {\n",
       "        vertical-align: middle;\n",
       "    }\n",
       "\n",
       "    .dataframe tbody tr th {\n",
       "        vertical-align: top;\n",
       "    }\n",
       "\n",
       "    .dataframe thead th {\n",
       "        text-align: right;\n",
       "    }\n",
       "</style>\n",
       "<table border=\"1\" class=\"dataframe\">\n",
       "  <thead>\n",
       "    <tr style=\"text-align: right;\">\n",
       "      <th></th>\n",
       "      <th>count</th>\n",
       "    </tr>\n",
       "  </thead>\n",
       "  <tbody>\n",
       "    <tr>\n",
       "      <th>블레이저</th>\n",
       "      <td>13</td>\n",
       "    </tr>\n",
       "    <tr>\n",
       "      <th>블라우스</th>\n",
       "      <td>532</td>\n",
       "    </tr>\n",
       "    <tr>\n",
       "      <th>봄버</th>\n",
       "      <td>1508</td>\n",
       "    </tr>\n",
       "    <tr>\n",
       "      <th>버튼</th>\n",
       "      <td>23</td>\n",
       "    </tr>\n",
       "    <tr>\n",
       "      <th>가디건</th>\n",
       "      <td>10</td>\n",
       "    </tr>\n",
       "    <tr>\n",
       "      <th>플란넬</th>\n",
       "      <td>918</td>\n",
       "    </tr>\n",
       "    <tr>\n",
       "      <th>홀터넥</th>\n",
       "      <td>13</td>\n",
       "    </tr>\n",
       "    <tr>\n",
       "      <th>헨리넥</th>\n",
       "      <td>1</td>\n",
       "    </tr>\n",
       "    <tr>\n",
       "      <th>후드</th>\n",
       "      <td>66</td>\n",
       "    </tr>\n",
       "    <tr>\n",
       "      <th>자켓</th>\n",
       "      <td>289</td>\n",
       "    </tr>\n",
       "    <tr>\n",
       "      <th>저지</th>\n",
       "      <td>673</td>\n",
       "    </tr>\n",
       "    <tr>\n",
       "      <th>파카</th>\n",
       "      <td>58</td>\n",
       "    </tr>\n",
       "    <tr>\n",
       "      <th>피코트</th>\n",
       "      <td>40</td>\n",
       "    </tr>\n",
       "    <tr>\n",
       "      <th>판초</th>\n",
       "      <td>4</td>\n",
       "    </tr>\n",
       "    <tr>\n",
       "      <th>스웨터</th>\n",
       "      <td>56</td>\n",
       "    </tr>\n",
       "    <tr>\n",
       "      <th>탱크</th>\n",
       "      <td>800</td>\n",
       "    </tr>\n",
       "    <tr>\n",
       "      <th>티셔츠</th>\n",
       "      <td>1041</td>\n",
       "    </tr>\n",
       "    <tr>\n",
       "      <th>상의</th>\n",
       "      <td>2289</td>\n",
       "    </tr>\n",
       "    <tr>\n",
       "      <th>터틀넥</th>\n",
       "      <td>775</td>\n",
       "    </tr>\n",
       "    <tr>\n",
       "      <th>7부</th>\n",
       "      <td>14</td>\n",
       "    </tr>\n",
       "    <tr>\n",
       "      <th>치노</th>\n",
       "      <td>8</td>\n",
       "    </tr>\n",
       "    <tr>\n",
       "      <th>팬티</th>\n",
       "      <td>45</td>\n",
       "    </tr>\n",
       "    <tr>\n",
       "      <th>컷오프</th>\n",
       "      <td>41</td>\n",
       "    </tr>\n",
       "    <tr>\n",
       "      <th>가우초</th>\n",
       "      <td>96</td>\n",
       "    </tr>\n",
       "    <tr>\n",
       "      <th>청바지</th>\n",
       "      <td>0</td>\n",
       "    </tr>\n",
       "    <tr>\n",
       "      <th>제깅스</th>\n",
       "      <td>502</td>\n",
       "    </tr>\n",
       "    <tr>\n",
       "      <th>승마용</th>\n",
       "      <td>48</td>\n",
       "    </tr>\n",
       "    <tr>\n",
       "      <th>조거</th>\n",
       "      <td>6</td>\n",
       "    </tr>\n",
       "    <tr>\n",
       "      <th>레깅스</th>\n",
       "      <td>294</td>\n",
       "    </tr>\n",
       "    <tr>\n",
       "      <th>사롱</th>\n",
       "      <td>331</td>\n",
       "    </tr>\n",
       "    <tr>\n",
       "      <th>반바지</th>\n",
       "      <td>3</td>\n",
       "    </tr>\n",
       "    <tr>\n",
       "      <th>치마</th>\n",
       "      <td>1160</td>\n",
       "    </tr>\n",
       "    <tr>\n",
       "      <th>추리닝</th>\n",
       "      <td>1007</td>\n",
       "    </tr>\n",
       "    <tr>\n",
       "      <th>트레이닝복</th>\n",
       "      <td>162</td>\n",
       "    </tr>\n",
       "    <tr>\n",
       "      <th>트렁크</th>\n",
       "      <td>83</td>\n",
       "    </tr>\n",
       "    <tr>\n",
       "      <th>카프탄</th>\n",
       "      <td>29</td>\n",
       "    </tr>\n",
       "    <tr>\n",
       "      <th>케이프</th>\n",
       "      <td>1</td>\n",
       "    </tr>\n",
       "    <tr>\n",
       "      <th>코트</th>\n",
       "      <td>0</td>\n",
       "    </tr>\n",
       "    <tr>\n",
       "      <th>커버업</th>\n",
       "      <td>157</td>\n",
       "    </tr>\n",
       "    <tr>\n",
       "      <th>원피스</th>\n",
       "      <td>2</td>\n",
       "    </tr>\n",
       "    <tr>\n",
       "      <th>점프수트</th>\n",
       "      <td>5669</td>\n",
       "    </tr>\n",
       "    <tr>\n",
       "      <th>카프탄</th>\n",
       "      <td>503</td>\n",
       "    </tr>\n",
       "    <tr>\n",
       "      <th>기모노</th>\n",
       "      <td>9</td>\n",
       "    </tr>\n",
       "    <tr>\n",
       "      <th>잠옷</th>\n",
       "      <td>200</td>\n",
       "    </tr>\n",
       "    <tr>\n",
       "      <th>원지</th>\n",
       "      <td>0</td>\n",
       "    </tr>\n",
       "    <tr>\n",
       "      <th>로브</th>\n",
       "      <td>7</td>\n",
       "    </tr>\n",
       "    <tr>\n",
       "      <th>롬퍼</th>\n",
       "      <td>7</td>\n",
       "    </tr>\n",
       "    <tr>\n",
       "      <th>셔츠</th>\n",
       "      <td>507</td>\n",
       "    </tr>\n",
       "    <tr>\n",
       "      <th>여름용</th>\n",
       "      <td>0</td>\n",
       "    </tr>\n",
       "  </tbody>\n",
       "</table>\n",
       "</div>"
      ],
      "text/plain": [
       "       count\n",
       "블레이저      13\n",
       "블라우스     532\n",
       "봄버      1508\n",
       "버튼        23\n",
       "가디건       10\n",
       "플란넬      918\n",
       "홀터넥       13\n",
       "헨리넥        1\n",
       "후드        66\n",
       "자켓       289\n",
       "저지       673\n",
       "파카        58\n",
       "피코트       40\n",
       "판초         4\n",
       "스웨터       56\n",
       "탱크       800\n",
       "티셔츠     1041\n",
       "상의      2289\n",
       "터틀넥      775\n",
       "7부        14\n",
       "치노         8\n",
       "팬티        45\n",
       "컷오프       41\n",
       "가우초       96\n",
       "청바지        0\n",
       "제깅스      502\n",
       "승마용       48\n",
       "조거         6\n",
       "레깅스      294\n",
       "사롱       331\n",
       "반바지        3\n",
       "치마      1160\n",
       "추리닝     1007\n",
       "트레이닝복    162\n",
       "트렁크       83\n",
       "카프탄       29\n",
       "케이프        1\n",
       "코트         0\n",
       "커버업      157\n",
       "원피스        2\n",
       "점프수트    5669\n",
       "카프탄      503\n",
       "기모노        9\n",
       "잠옷       200\n",
       "원지         0\n",
       "로브         7\n",
       "롬퍼         7\n",
       "셔츠       507\n",
       "여름용        0"
      ]
     },
     "execution_count": 56,
     "metadata": {},
     "output_type": "execute_result"
    }
   ],
   "source": [
    "pd.DataFrame(index=cat_list_ko[1:], data=np.array(train_cat+ val_cat + test_cat).T[1:], columns=['count'])"
   ]
  },
  {
   "cell_type": "code",
   "execution_count": 143,
   "metadata": {},
   "outputs": [],
   "source": [
    "def make_label_file(img_file, bbox, cate, attr, path='D:/Downloads/Category and Attribute Prediction/Anno_fine/',):\n",
    "    imgs = open(path + img_file).read().splitlines()\n",
    "    bboxs = open(path + bbox).read().splitlines()\n",
    "    cates = open(path + cate).read().splitlines()\n",
    "    attrs = open(path + attr).read().splitlines()\n",
    "    \n",
    "    d = list()\n",
    "    \n",
    "    for i in range(len(imgs)):\n",
    "        d.append(f'{imgs[i]} {bboxs[i]} {cates[i]} {attrs[i]}')\n",
    "        \n",
    "    with open('merged_'+img_file,'w') as f:\n",
    "        for item in d:\n",
    "            f.write('%s\\n' % item)"
   ]
  },
  {
   "cell_type": "code",
   "execution_count": 144,
   "metadata": {},
   "outputs": [],
   "source": [
    "make_label_file('train.txt','train_bbox.txt','train_cate.txt','train_attr.txt')"
   ]
  },
  {
   "cell_type": "code",
   "execution_count": 146,
   "metadata": {},
   "outputs": [],
   "source": [
    "make_label_file('val.txt','val_bbox.txt','val_cate.txt','val_attr.txt')"
   ]
  },
  {
   "cell_type": "code",
   "execution_count": 146,
   "metadata": {},
   "outputs": [],
   "source": [
    "make_label_file('test.txt','test_bbox.txt','test_cate.txt','test_attr.txt')"
   ]
  },
  {
   "cell_type": "code",
   "execution_count": 147,
   "metadata": {},
   "outputs": [],
   "source": [
    "data = open('merged_train.txt', 'r').read().splitlines()"
   ]
  },
  {
   "cell_type": "code",
   "execution_count": 153,
   "metadata": {},
   "outputs": [],
   "source": [
    "line = data[0]\n",
    "ss = line.split()"
   ]
  },
  {
   "cell_type": "code",
   "execution_count": 154,
   "metadata": {},
   "outputs": [
    {
     "name": "stdout",
     "output_type": "stream",
     "text": [
      "img/Sweet_Crochet_Blouse/img_00000070.jpg\n",
      "066\n",
      "075\n",
      "241\n",
      "293\n",
      "3\n",
      "0\n",
      "0\n",
      "0\n",
      "1\n",
      "0\n",
      "0\n",
      "0\n",
      "0\n",
      "0\n",
      "1\n",
      "0\n",
      "0\n",
      "1\n",
      "0\n",
      "0\n",
      "0\n",
      "1\n",
      "0\n",
      "1\n",
      "0\n",
      "0\n",
      "0\n",
      "0\n",
      "0\n",
      "0\n",
      "1\n"
     ]
    }
   ],
   "source": [
    "for i in range(len(ss)):\n",
    "    print(ss[i])"
   ]
  },
  {
   "cell_type": "code",
   "execution_count": 161,
   "metadata": {},
   "outputs": [],
   "source": [
    "d = dict()"
   ]
  },
  {
   "cell_type": "code",
   "execution_count": 162,
   "metadata": {},
   "outputs": [],
   "source": [
    "for i in cat_list:\n",
    "    d[i] = len(d)"
   ]
  },
  {
   "cell_type": "code",
   "execution_count": 163,
   "metadata": {},
   "outputs": [
    {
     "data": {
      "text/plain": [
       "{'Anorak': 0,\n",
       " 'Blazer': 1,\n",
       " 'Blouse': 2,\n",
       " 'Bomber': 3,\n",
       " 'Button-Down': 4,\n",
       " 'Cardigan': 5,\n",
       " 'Flannel': 6,\n",
       " 'Halter': 7,\n",
       " 'Henley': 8,\n",
       " 'Hoodie': 9,\n",
       " 'Jacket': 10,\n",
       " 'Jersey': 11,\n",
       " 'Parka': 12,\n",
       " 'Peacoat': 13,\n",
       " 'Poncho': 14,\n",
       " 'Sweater': 15,\n",
       " 'Tank': 16,\n",
       " 'Tee': 17,\n",
       " 'Top': 18,\n",
       " 'Turtleneck': 19,\n",
       " 'Capris': 20,\n",
       " 'Chinos': 21,\n",
       " 'Culottes': 22,\n",
       " 'Cutoffs': 23,\n",
       " 'Gauchos': 24,\n",
       " 'Jeans': 25,\n",
       " 'Jeggings': 26,\n",
       " 'Jodhpurs': 27,\n",
       " 'Joggers': 28,\n",
       " 'Leggings': 29,\n",
       " 'Sarong': 30,\n",
       " 'Shorts': 31,\n",
       " 'Skirt': 32,\n",
       " 'Sweatpants': 33,\n",
       " 'Sweatshorts': 34,\n",
       " 'Trunks': 35,\n",
       " 'Caftan': 36,\n",
       " 'Cape': 37,\n",
       " 'Coat': 38,\n",
       " 'Coverup': 39,\n",
       " 'Dress': 40,\n",
       " 'Jumpsuit': 41,\n",
       " 'Kaftan': 42,\n",
       " 'Kimono': 43,\n",
       " 'Nightdress': 44,\n",
       " 'Onesie': 45,\n",
       " 'Robe': 46,\n",
       " 'Romper': 47,\n",
       " 'Shirtdress': 48,\n",
       " 'Sundress': 49}"
      ]
     },
     "execution_count": 163,
     "metadata": {},
     "output_type": "execute_result"
    }
   ],
   "source": [
    "d"
   ]
  },
  {
   "cell_type": "code",
   "execution_count": 172,
   "metadata": {},
   "outputs": [],
   "source": [
    "d2 = dict()\n",
    "cnt=0\n",
    "for i in cat_list_ko:\n",
    "    d2[i]=cnt\n",
    "    cnt+=1"
   ]
  },
  {
   "cell_type": "code",
   "execution_count": 173,
   "metadata": {},
   "outputs": [
    {
     "data": {
      "text/plain": [
       "{'아노락': 0,\n",
       " '블레이저': 1,\n",
       " '블라우스': 2,\n",
       " '봄버': 3,\n",
       " '버튼': 4,\n",
       " '가디건': 5,\n",
       " '플란넬': 6,\n",
       " '홀터넥': 7,\n",
       " '헨리넥': 8,\n",
       " '후드': 9,\n",
       " '자켓': 10,\n",
       " '저지': 11,\n",
       " '파카': 12,\n",
       " '피코트': 13,\n",
       " '판초': 14,\n",
       " '스웨터': 15,\n",
       " '탱크': 16,\n",
       " '티셔츠': 17,\n",
       " '상의': 18,\n",
       " '터틀넥': 19,\n",
       " '7부': 20,\n",
       " '치노': 21,\n",
       " '팬티': 22,\n",
       " '컷오프': 23,\n",
       " '가우초': 24,\n",
       " '청바지': 25,\n",
       " '제깅스': 26,\n",
       " '승마용': 27,\n",
       " '조거': 28,\n",
       " '레깅스': 29,\n",
       " '사롱': 30,\n",
       " '반바지': 31,\n",
       " '치마': 32,\n",
       " '추리닝': 33,\n",
       " '트레이닝복': 34,\n",
       " '트렁크': 35,\n",
       " '카프탄': 42,\n",
       " '케이프': 37,\n",
       " '코트': 38,\n",
       " '커버업': 39,\n",
       " '원피스': 40,\n",
       " '점프수트': 41,\n",
       " '기모노': 43,\n",
       " '잠옷': 44,\n",
       " '원지': 45,\n",
       " '로브': 46,\n",
       " '롬퍼': 47,\n",
       " '셔츠': 48,\n",
       " '여름용': 49}"
      ]
     },
     "execution_count": 173,
     "metadata": {},
     "output_type": "execute_result"
    }
   ],
   "source": [
    "d2"
   ]
  },
  {
   "cell_type": "code",
   "execution_count": 169,
   "metadata": {},
   "outputs": [
    {
     "data": {
      "text/plain": [
       "50"
      ]
     },
     "execution_count": 169,
     "metadata": {},
     "output_type": "execute_result"
    }
   ],
   "source": [
    "len(cat_list_ko)"
   ]
  },
  {
   "cell_type": "code",
   "execution_count": null,
   "metadata": {},
   "outputs": [],
   "source": []
  }
 ],
 "metadata": {
  "kernelspec": {
   "display_name": "Python 3",
   "language": "python",
   "name": "python3"
  },
  "language_info": {
   "codemirror_mode": {
    "name": "ipython",
    "version": 3
   },
   "file_extension": ".py",
   "mimetype": "text/x-python",
   "name": "python",
   "nbconvert_exporter": "python",
   "pygments_lexer": "ipython3",
   "version": "3.7.9"
  }
 },
 "nbformat": 4,
 "nbformat_minor": 4
}
